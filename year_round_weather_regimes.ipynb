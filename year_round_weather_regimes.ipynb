{
 "cells": [
  {
   "cell_type": "markdown",
   "id": "097ca90a",
   "metadata": {},
   "source": [
    "# Year-Round Weather Regimes"
   ]
  },
  {
   "cell_type": "markdown",
   "id": "a913af1e",
   "metadata": {},
   "source": [
    "This work is inspired by the year-round weather regimes definde in [Grams et al., 2017](https://www.nature.com/articles/nclimate3338) and later in [Büeler et al., 2021](https://rmets.onlinelibrary.wiley.com/doi/full/10.1002/qj.4178).  \n",
    "\n",
    "\n",
    "In this notebook, we will try to replicate the regimes defined in the above papers.\n",
    "\n"
   ]
  },
  {
   "cell_type": "code",
   "execution_count": 2,
   "id": "189b9317",
   "metadata": {},
   "outputs": [],
   "source": [
    "# general\n",
    "import os\n",
    "import sys\n",
    "import glob\n",
    "import numpy as np\n",
    "import pandas as pd\n",
    "import xarray as xr\n",
    "import datetime as dt\n",
    "\n",
    "from sklearn.cluster import KMeans\n",
    "from sklearn.metrics import confusion_matrix\n",
    "\n",
    "# import matplotlib.pyplot as plt\n",
    "from matplotlib.colors import TwoSlopeNorm\n",
    "import cartopy.crs as ccrs\n",
    "\n",
    "from eofs.xarray import Eof\n",
    "\n",
    "import matplotlib.pyplot as plt"
   ]
  },
  {
   "cell_type": "code",
   "execution_count": 3,
   "id": "373b1ee2",
   "metadata": {},
   "outputs": [],
   "source": [
    "%matplotlib notebook\n",
    "%matplotlib inline"
   ]
  },
  {
   "cell_type": "markdown",
   "id": "08faad8a",
   "metadata": {},
   "source": [
    "## Computing seven NAE weather regimes"
   ]
  },
  {
   "cell_type": "markdown",
   "id": "a5d87e72",
   "metadata": {},
   "source": [
    "The first step involves computing the seven year-round Atlantic-European weather regimes first defined in [Grams et al., 2017](https://www.nature.com/articles/nclimate3338) and later in [Büeler et al., 2021](https://rmets.onlinelibrary.wiley.com/doi/full/10.1002/qj.4178).  \n",
    "\n",
    "\n",
    "This can be summarized in the following steps:\n",
    "1. Compute six-hourly 500-hPa geopotential height anomalies with respect to 91-day running mean calendar date climatologies (i.e., +/- 45 days centered around each 6-hr time step)\n",
    "2. Filter anomalies using five-day low pass filter\n",
    "3. Seasonally normalize (divide low-pass-filtered geopotential height anomaly at each grid point by a calendar-day-dependent scalar that quantifies the climatological variability of geopotential height anomalies at the corresponding calendar day. This scalar is computed as the spatial average (over all grid points in the investigated domain) of the temporal 31-day running standard deviation over all anomalies between 1979 and 2018.)\n",
    "4. Apply EOF analysis to filtered and seasonally normalized anomalies based on the North-Atlantic-European domain (80W to 40E, 30 to 90N)\n",
    "5. Apply k-means clustering in the phase space spanned by the first seven EOFs (70% variance), yielding seven cluster means representing the seven weather regimes\n",
    "\n",
    "**These regimes are called**\n",
    "\n",
    "a) Atlantic Trough (AT)  \n",
    "\n",
    "b) Zonal Regime (ZO)\n",
    "\n",
    "c) Scandinavian Trough (ScTr)\n",
    "\n",
    "d) Atlantic Ridge (AR)\n",
    "\n",
    "e) European Blocking (EuBl)\n",
    "\n",
    "f) Scandinavian Blocking (ScBL)\n",
    "\n",
    "g) Greenland Blocking (GL)\n",
    "\n",
    "h) No Regime"
   ]
  },
  {
   "cell_type": "markdown",
   "id": "a961e378",
   "metadata": {},
   "source": [
    "### Compute six-hourly 500-hPa geopotential height anomalies with respect to 91-day running mean calendar date climatologies (i.e., +/- 45 days centered around each 6-hr time step)"
   ]
  },
  {
   "cell_type": "code",
   "execution_count": 8,
   "id": "ead3e236",
   "metadata": {},
   "outputs": [],
   "source": [
    "path = './data/'"
   ]
  },
  {
   "cell_type": "code",
   "execution_count": 7,
   "id": "27ac7748",
   "metadata": {},
   "outputs": [
    {
     "data": {
      "text/plain": [
       "'/home/local/DAC/ahn/Documents/weatherRegimes'"
      ]
     },
     "execution_count": 7,
     "metadata": {},
     "output_type": "execute_result"
    }
   ],
   "source": []
  },
  {
   "cell_type": "markdown",
   "id": "d94d0a4f",
   "metadata": {},
   "source": [
    "### Filter anomalies using five-day low pass filter"
   ]
  },
  {
   "cell_type": "code",
   "execution_count": null,
   "id": "5c4f9d17",
   "metadata": {},
   "outputs": [],
   "source": []
  },
  {
   "cell_type": "markdown",
   "id": "235209e8",
   "metadata": {},
   "source": [
    "### Seasonally normalize\n",
    "\n",
    "Divide low-pass-filtered geopotential height anomaly at each grid point by a calendar-day-dependent scalar that quantifies the climatological variability of geopotential height anomalies at the corresponding calendar day. This scalar is computed as the spatial average (over all grid points in the investigated domain) of the temporal 31-day running standard deviation over all anomalies between 1979 and 2018."
   ]
  },
  {
   "cell_type": "code",
   "execution_count": null,
   "id": "c534777a",
   "metadata": {},
   "outputs": [],
   "source": []
  },
  {
   "cell_type": "markdown",
   "id": "ae3bdc36",
   "metadata": {},
   "source": [
    "### Apply EOF analysis to filtered and seasonally normalized anomalies based on the North-Atlantic-European domain"
   ]
  },
  {
   "cell_type": "code",
   "execution_count": null,
   "id": "3de53ee6",
   "metadata": {},
   "outputs": [],
   "source": []
  },
  {
   "cell_type": "markdown",
   "id": "23188030",
   "metadata": {},
   "source": [
    "### Apply k-means clustering in the phase space spanned by the first seven EOFs (70% variance), yielding seven cluster means representing the seven weather regimes\n"
   ]
  },
  {
   "cell_type": "code",
   "execution_count": null,
   "id": "038797cd",
   "metadata": {},
   "outputs": [],
   "source": []
  }
 ],
 "metadata": {
  "kernelspec": {
   "display_name": "Python 3",
   "language": "python",
   "name": "python3"
  },
  "language_info": {
   "codemirror_mode": {
    "name": "ipython",
    "version": 3
   },
   "file_extension": ".py",
   "mimetype": "text/x-python",
   "name": "python",
   "nbconvert_exporter": "python",
   "pygments_lexer": "ipython3",
   "version": "3.7.7"
  },
  "latex_envs": {
   "LaTeX_envs_menu_present": true,
   "autoclose": false,
   "autocomplete": true,
   "bibliofile": "biblio.bib",
   "cite_by": "apalike",
   "current_citInitial": 1,
   "eqLabelWithNumbers": true,
   "eqNumInitial": 1,
   "hotkeys": {
    "equation": "Ctrl-E",
    "itemize": "Ctrl-I"
   },
   "labels_anchors": false,
   "latex_user_defs": false,
   "report_style_numbering": false,
   "user_envs_cfg": false
  },
  "toc": {
   "base_numbering": 1,
   "nav_menu": {},
   "number_sections": true,
   "sideBar": true,
   "skip_h1_title": false,
   "title_cell": "Table of Contents",
   "title_sidebar": "Contents",
   "toc_cell": false,
   "toc_position": {},
   "toc_section_display": true,
   "toc_window_display": true
  }
 },
 "nbformat": 4,
 "nbformat_minor": 5
}
